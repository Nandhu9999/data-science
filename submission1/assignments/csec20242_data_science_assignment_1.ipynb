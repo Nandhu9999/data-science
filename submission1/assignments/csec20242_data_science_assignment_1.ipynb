{
  "nbformat": 4,
  "nbformat_minor": 0,
  "metadata": {
    "colab": {
      "provenance": [],
      "collapsed_sections": []
    },
    "kernelspec": {
      "name": "python3",
      "display_name": "Python 3"
    },
    "language_info": {
      "name": "python"
    }
  },
  "cells": [
    {
      "cell_type": "markdown",
      "source": [
        "**python**"
      ],
      "metadata": {
        "id": "hQ1qXi7GB8lT"
      }
    },
    {
      "cell_type": "code",
      "source": [
        "# 1\n",
        "lst = [\"aman\", \"222\", 777, 400.4]\n",
        "print(tuple(lst))"
      ],
      "metadata": {
        "id": "Y2VUuwim9Z7e"
      },
      "execution_count": null,
      "outputs": []
    },
    {
      "cell_type": "code",
      "source": [
        "# 2\n",
        "import datetime\n",
        "dct = {\n",
        "  \"rollno\": 1,\n",
        "  \"lname\": \"b\",\n",
        "  \"fname\": \"a\",\n",
        "  \"dob\": str(datetime.datetime(2000, 6, 1))\n",
        "}\n",
        "\n",
        "print(dct)\n"
      ],
      "metadata": {
        "id": "EdG4ZsV_9gpn"
      },
      "execution_count": null,
      "outputs": []
    },
    {
      "cell_type": "code",
      "source": [
        "# 3\n",
        "import numpy as np\n",
        "\n",
        "np.random.seed(42)\n",
        "arr = np.random.randint(1,10,size=(2,2))\n",
        "print(arr)"
      ],
      "metadata": {
        "colab": {
          "base_uri": "https://localhost:8080/"
        },
        "id": "aFaLGzGSC5rB",
        "outputId": "199f03cc-e22a-4fb1-969f-00e191f750bb"
      },
      "execution_count": null,
      "outputs": [
        {
          "output_type": "stream",
          "name": "stdout",
          "text": [
            "[[7 4]\n",
            " [8 5]]\n"
          ]
        }
      ]
    },
    {
      "cell_type": "code",
      "source": [
        "# 4. Generate a single random number in [0.0, 1.0]. Find the absolute value of (-1234)\n",
        "import random\n",
        "\n",
        "print(random.randint(0,1))\n",
        "print(random.uniform(0,1))\n",
        "\n",
        "print(abs(-1234))\n"
      ],
      "metadata": {
        "colab": {
          "base_uri": "https://localhost:8080/"
        },
        "id": "NMSF13jf92w4",
        "outputId": "14ec00e5-0287-4606-9255-3a98f8e80058"
      },
      "execution_count": null,
      "outputs": [
        {
          "output_type": "stream",
          "name": "stdout",
          "text": [
            "0\n",
            "0.4404233903060386\n",
            "1234\n"
          ]
        }
      ]
    },
    {
      "cell_type": "code",
      "source": [
        "# 5\n",
        "import random\n",
        "\n",
        "print(random.randint(20,90))"
      ],
      "metadata": {
        "colab": {
          "base_uri": "https://localhost:8080/"
        },
        "id": "vMjSAPvYAC5m",
        "outputId": "45b390a5-ef43-4d21-cfca-cd4192b2ebc8"
      },
      "execution_count": null,
      "outputs": [
        {
          "output_type": "stream",
          "name": "stdout",
          "text": [
            "49\n"
          ]
        }
      ]
    },
    {
      "cell_type": "code",
      "source": [
        "# 6\n",
        "import random\n",
        "arr = [11, 12, 13,14, 15]\n",
        "\n",
        "print(random.sample(arr,3))\n",
        "\n",
        "newarr = random.shuffle(arr)\n",
        "print(newarr)\n",
        "\n",
        "\n",
        "print(arr[ random.randint(0,len(arr)-1) ])"
      ],
      "metadata": {
        "colab": {
          "base_uri": "https://localhost:8080/"
        },
        "id": "9S4dSUtTALFS",
        "outputId": "f2d23182-3c65-448b-e459-01c7499b58c1"
      },
      "execution_count": null,
      "outputs": [
        {
          "output_type": "stream",
          "name": "stdout",
          "text": [
            "[15, 14, 12]\n",
            "None\n",
            "13\n"
          ]
        }
      ]
    },
    {
      "cell_type": "code",
      "execution_count": null,
      "metadata": {
        "id": "kG4SqDCqB4Oa"
      },
      "outputs": [],
      "source": [
        "\n",
        "# 7\n",
        "f = open(\"file.txt\",\"w\")\n",
        "f.write(\"The King is Dead, Long Live The King\")\n",
        "f.close()\n"
      ]
    },
    {
      "cell_type": "code",
      "source": [
        "# 8\n",
        "i = 10\n",
        "while i:\n",
        "  i -= 1\n",
        "  print(\"-\",end=\"\")\n",
        "  continue  \n",
        "  print(\"a\")\n",
        "\n",
        "print()"
      ],
      "metadata": {
        "id": "P9haXBwKCbmk"
      },
      "execution_count": null,
      "outputs": []
    },
    {
      "cell_type": "code",
      "source": [
        "# 9\n",
        "\n",
        "print(\"The King is Dead, Long Live The King\"[2:5])\n",
        "print(\"The King is Dead, Long Live The King\".split())"
      ],
      "metadata": {
        "id": "Slxmpk9AChFr"
      },
      "execution_count": null,
      "outputs": []
    },
    {
      "cell_type": "code",
      "source": [
        "# 10\n",
        "import numpy as np\n",
        "\n",
        "lst = [1,4,5,8]\n",
        "arr = np.array(lst, dtype=\"f\")\n",
        "print(arr[:2],arr[2:])\n"
      ],
      "metadata": {
        "colab": {
          "base_uri": "https://localhost:8080/"
        },
        "id": "x-gYD4Ac9Prd",
        "outputId": "0038dfda-8992-4998-e591-d7048790ca11"
      },
      "execution_count": null,
      "outputs": [
        {
          "output_type": "stream",
          "name": "stdout",
          "text": [
            "[1. 4.] [5. 8.]\n"
          ]
        }
      ]
    },
    {
      "cell_type": "code",
      "source": [
        "# 11\n",
        "a1 = [1,2,3]\n",
        "a2 = [4,5,6]\n",
        "\n",
        "arr2d = np.array([a1,a2],dtype='f')\n",
        "print(arr2d)"
      ],
      "metadata": {
        "id": "2HRLPXEcCo-i"
      },
      "execution_count": null,
      "outputs": []
    },
    {
      "cell_type": "code",
      "source": [
        "# 12\n",
        "import numpy\n",
        "arr = np.array([[1,2,3],[4,5,6]])\n",
        "\n",
        "print(arr[1,:])\n",
        "\n",
        "print( arr[:,1].astype(numpy.float32) )\n",
        "\n",
        "print(\"length =\",arr.size)"
      ],
      "metadata": {
        "colab": {
          "base_uri": "https://localhost:8080/"
        },
        "id": "VClrc2dwC-A0",
        "outputId": "e7cb271f-c8b0-4e63-c128-16e291b505da"
      },
      "execution_count": null,
      "outputs": [
        {
          "output_type": "stream",
          "name": "stdout",
          "text": [
            "[4 5 6]\n",
            "[2. 5.]\n",
            "length = 6\n"
          ]
        }
      ]
    },
    {
      "cell_type": "code",
      "source": [
        "# 13\n",
        "import numpy as np  \n",
        "\n",
        "arr = np.array([1,2,3,4,5,6,7,8,9,10])\n",
        "arr2 = arr.reshape(5,2)\n",
        "print(arr2)\n",
        "print(arr2.T)\n"
      ],
      "metadata": {
        "id": "Xyf083RDAsbO"
      },
      "execution_count": null,
      "outputs": []
    },
    {
      "cell_type": "code",
      "source": [
        "# 14\n",
        "import numpy as np  \n",
        "lst = [1,2,3]\n",
        "arr = np.array(lst)\n",
        "print(arr)"
      ],
      "metadata": {
        "id": "WVYBSy7KAwrD"
      },
      "execution_count": null,
      "outputs": []
    },
    {
      "cell_type": "code",
      "source": [
        "# 15 Fill an array [1,2,3] with a single value [9,9,9]. \n",
        "arr = np.array([1,2,3])\n",
        "\n",
        "for _ in range(len(arr)): arr = arr * 0 + 9\n",
        "print(arr)"
      ],
      "metadata": {
        "colab": {
          "base_uri": "https://localhost:8080/"
        },
        "id": "Hbctjc8ZFB9R",
        "outputId": "1f8ee829-8f12-429e-a54d-986b1043fe2f"
      },
      "execution_count": null,
      "outputs": [
        {
          "output_type": "stream",
          "name": "stdout",
          "text": [
            "[9 9 9]\n"
          ]
        }
      ]
    },
    {
      "cell_type": "code",
      "source": [
        "# 16\n",
        "import numpy as np  \n",
        "\n",
        "arr1 = np.array([2,4,5])\n",
        "print(arr1.sum())"
      ],
      "metadata": {
        "id": "-d4yKsFDAy16"
      },
      "execution_count": null,
      "outputs": []
    },
    {
      "cell_type": "code",
      "source": [
        "# 17\n",
        "import numpy as np  \n",
        "\n",
        "arr1 = np.array([77,74,75])\n",
        "print(arr1.prod())"
      ],
      "metadata": {
        "id": "OWfltk6GA12a"
      },
      "execution_count": null,
      "outputs": []
    },
    {
      "cell_type": "code",
      "source": [
        "# 18\n",
        "import numpy as np  \n",
        "\n",
        "arr1 = np.array([2,1,9,1,2,22,1,1,4,55,6,2,56])\n",
        "print(\"mean\",arr1.mean())\n",
        "print(\"variance\",arr1.var())\n",
        "\n",
        "print(\"min\",arr1.min())\n",
        "print(\"max\",arr1.max())\n",
        "\n",
        "print(\"argmin\",arr1.argmin())\n",
        "print(\"median\",np.median(arr1) )\n",
        "print(\"argmax\",arr1.argmax())\n",
        "\n",
        "print(\"standard deviation\",arr1.std())"
      ],
      "metadata": {
        "id": "eB5mY-H4A4Sk"
      },
      "execution_count": null,
      "outputs": []
    },
    {
      "cell_type": "code",
      "source": [
        "# 19\n",
        "import numpy as np  \n",
        "\n",
        "arr = np.array([2,1,1,4,5,5,5,7])\n",
        "arr_unique = np.unique(arr)\n",
        "print(arr_unique) # unique automatically sorts it, but you can use np.sort(arr) to sort elements"
      ],
      "metadata": {
        "id": "xxqq2-TzA6Bn"
      },
      "execution_count": null,
      "outputs": []
    },
    {
      "cell_type": "code",
      "source": [
        "# 20\n",
        "import numpy as np  \n",
        "\n",
        "arr1 = np.array([1,2,3])\n",
        "arr2 = np.array([0,1,1])\n",
        "\n",
        "arr_dotprod = np.dot(arr1,arr2)\n",
        "\n",
        "print(arr_dotprod)"
      ],
      "metadata": {
        "id": "R7VWxDjaA8V5"
      },
      "execution_count": null,
      "outputs": []
    },
    {
      "cell_type": "code",
      "source": [
        "# 21\n",
        "import numpy as np  \n",
        "\n",
        "arr = np.array([ [2, -12],[1, -5] ])\n",
        "eig = np.linalg.eig(arr)\n",
        "print(\"eigenvalue\", eig[0])\n",
        "print(\"eigenvector\", eig[1])"
      ],
      "metadata": {
        "id": "cPbGYndeA-Jj"
      },
      "execution_count": null,
      "outputs": []
    },
    {
      "cell_type": "code",
      "source": [
        "# 22\n",
        "\n",
        "arr1 = np.array([11, 22, 11, 31])\n",
        "arr2 = np.array([25, 33, 31, 28])\n",
        "  \n",
        "# pearson product-moment correlation\n",
        "# coefficients of the arrays\n",
        "rslt = np.corrcoef(arr1, arr2)\n",
        "  \n",
        "print(rslt)"
      ],
      "metadata": {
        "colab": {
          "base_uri": "https://localhost:8080/"
        },
        "id": "SaCws0tcGH3a",
        "outputId": "405e8010-1102-45ee-a0b0-db6c8d837a45"
      },
      "execution_count": null,
      "outputs": [
        {
          "output_type": "stream",
          "name": "stdout",
          "text": [
            "[[1.         0.15997968]\n",
            " [0.15997968 1.        ]]\n"
          ]
        }
      ]
    }
  ]
}