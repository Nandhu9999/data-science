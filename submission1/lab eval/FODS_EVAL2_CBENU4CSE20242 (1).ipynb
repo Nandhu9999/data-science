{
  "nbformat": 4,
  "nbformat_minor": 0,
  "metadata": {
    "colab": {
      "provenance": []
    },
    "kernelspec": {
      "name": "python3",
      "display_name": "Python 3"
    },
    "language_info": {
      "name": "python"
    }
  },
  "cells": [
    {
      "cell_type": "markdown",
      "source": [
        "NANDHAKUMAR\n",
        "CB.EN.U4CSE20242\n",
        "\n",
        "#PART A"
      ],
      "metadata": {
        "id": "kdNTD5QnLiMs"
      }
    },
    {
      "cell_type": "markdown",
      "source": [
        "**1. State the Null and Alternative Hypothesis**\n",
        "\n",
        "H0 = 747 plants from the 929 plants are purple\n",
        "\n",
        "Ha = 747 plants from the 929 plants are NOT purple"
      ],
      "metadata": {
        "id": "5HZ_ySD5J1WS"
      }
    },
    {
      "cell_type": "code",
      "execution_count": 26,
      "metadata": {
        "id": "SxlrZvFZJvTS"
      },
      "outputs": [],
      "source": [
        "plant_no = 705 + 42      # 747\n",
        "simulations = 2000 - 242 # 1758\n",
        "\n",
        "alpha = 0.5"
      ]
    },
    {
      "cell_type": "code",
      "source": [
        "import numpy as np\n",
        "import pandas as pd\n",
        "import scipy.stats as st"
      ],
      "metadata": {
        "id": "Ns9LrkIJKk8D"
      },
      "execution_count": 27,
      "outputs": []
    },
    {
      "cell_type": "code",
      "source": [
        "#2\n",
        "# number of purple flowers "
      ],
      "metadata": {
        "id": "fb_qQDLpLN_0"
      },
      "execution_count": 28,
      "outputs": []
    },
    {
      "cell_type": "code",
      "source": [
        "#3 Observed Statistic\n",
        "approx = round( (plant_no / 929) * 100, 2 )\n",
        "print(approx,\"%\")\n"
      ],
      "metadata": {
        "colab": {
          "base_uri": "https://localhost:8080/"
        },
        "id": "j-KCNHG4N3TO",
        "outputId": "876e63f3-40dc-4ae2-f442-495281d86c40"
      },
      "execution_count": 29,
      "outputs": [
        {
          "output_type": "stream",
          "name": "stdout",
          "text": [
            "80.41 %\n"
          ]
        }
      ]
    },
    {
      "cell_type": "code",
      "source": [
        "#4 Simulate test statistic under Null \n",
        "import numpy as np\n",
        "import numpy.random as npr\n",
        "npr.binomial(929, 0.75)\n",
        "purples = npr.binomial(929, 0.75, simulations)\n",
        "purples[1:5]"
      ],
      "metadata": {
        "colab": {
          "base_uri": "https://localhost:8080/"
        },
        "id": "6OjDSd2NN6r-",
        "outputId": "b907916e-1851-4a89-d336-f71acb3f2688"
      },
      "execution_count": 30,
      "outputs": [
        {
          "output_type": "execute_result",
          "data": {
            "text/plain": [
              "array([691, 700, 692, 699])"
            ]
          },
          "metadata": {},
          "execution_count": 30
        }
      ]
    },
    {
      "cell_type": "code",
      "source": [
        "%matplotlib inline\n",
        "import pandas as pd\n",
        "df = pd.DataFrame(purples)\n",
        "df.head(5)\n"
      ],
      "metadata": {
        "colab": {
          "base_uri": "https://localhost:8080/",
          "height": 206
        },
        "id": "wYEvs59RVkag",
        "outputId": "829001b6-39a8-4d1c-fd3b-f9e7e90f5852"
      },
      "execution_count": 31,
      "outputs": [
        {
          "output_type": "execute_result",
          "data": {
            "text/plain": [
              "     0\n",
              "0  669\n",
              "1  691\n",
              "2  700\n",
              "3  692\n",
              "4  699"
            ],
            "text/html": [
              "\n",
              "  <div id=\"df-4ea4a017-449b-471c-9688-1a0eb89f7c02\">\n",
              "    <div class=\"colab-df-container\">\n",
              "      <div>\n",
              "<style scoped>\n",
              "    .dataframe tbody tr th:only-of-type {\n",
              "        vertical-align: middle;\n",
              "    }\n",
              "\n",
              "    .dataframe tbody tr th {\n",
              "        vertical-align: top;\n",
              "    }\n",
              "\n",
              "    .dataframe thead th {\n",
              "        text-align: right;\n",
              "    }\n",
              "</style>\n",
              "<table border=\"1\" class=\"dataframe\">\n",
              "  <thead>\n",
              "    <tr style=\"text-align: right;\">\n",
              "      <th></th>\n",
              "      <th>0</th>\n",
              "    </tr>\n",
              "  </thead>\n",
              "  <tbody>\n",
              "    <tr>\n",
              "      <th>0</th>\n",
              "      <td>669</td>\n",
              "    </tr>\n",
              "    <tr>\n",
              "      <th>1</th>\n",
              "      <td>691</td>\n",
              "    </tr>\n",
              "    <tr>\n",
              "      <th>2</th>\n",
              "      <td>700</td>\n",
              "    </tr>\n",
              "    <tr>\n",
              "      <th>3</th>\n",
              "      <td>692</td>\n",
              "    </tr>\n",
              "    <tr>\n",
              "      <th>4</th>\n",
              "      <td>699</td>\n",
              "    </tr>\n",
              "  </tbody>\n",
              "</table>\n",
              "</div>\n",
              "      <button class=\"colab-df-convert\" onclick=\"convertToInteractive('df-4ea4a017-449b-471c-9688-1a0eb89f7c02')\"\n",
              "              title=\"Convert this dataframe to an interactive table.\"\n",
              "              style=\"display:none;\">\n",
              "        \n",
              "  <svg xmlns=\"http://www.w3.org/2000/svg\" height=\"24px\"viewBox=\"0 0 24 24\"\n",
              "       width=\"24px\">\n",
              "    <path d=\"M0 0h24v24H0V0z\" fill=\"none\"/>\n",
              "    <path d=\"M18.56 5.44l.94 2.06.94-2.06 2.06-.94-2.06-.94-.94-2.06-.94 2.06-2.06.94zm-11 1L8.5 8.5l.94-2.06 2.06-.94-2.06-.94L8.5 2.5l-.94 2.06-2.06.94zm10 10l.94 2.06.94-2.06 2.06-.94-2.06-.94-.94-2.06-.94 2.06-2.06.94z\"/><path d=\"M17.41 7.96l-1.37-1.37c-.4-.4-.92-.59-1.43-.59-.52 0-1.04.2-1.43.59L10.3 9.45l-7.72 7.72c-.78.78-.78 2.05 0 2.83L4 21.41c.39.39.9.59 1.41.59.51 0 1.02-.2 1.41-.59l7.78-7.78 2.81-2.81c.8-.78.8-2.07 0-2.86zM5.41 20L4 18.59l7.72-7.72 1.47 1.35L5.41 20z\"/>\n",
              "  </svg>\n",
              "      </button>\n",
              "      \n",
              "  <style>\n",
              "    .colab-df-container {\n",
              "      display:flex;\n",
              "      flex-wrap:wrap;\n",
              "      gap: 12px;\n",
              "    }\n",
              "\n",
              "    .colab-df-convert {\n",
              "      background-color: #E8F0FE;\n",
              "      border: none;\n",
              "      border-radius: 50%;\n",
              "      cursor: pointer;\n",
              "      display: none;\n",
              "      fill: #1967D2;\n",
              "      height: 32px;\n",
              "      padding: 0 0 0 0;\n",
              "      width: 32px;\n",
              "    }\n",
              "\n",
              "    .colab-df-convert:hover {\n",
              "      background-color: #E2EBFA;\n",
              "      box-shadow: 0px 1px 2px rgba(60, 64, 67, 0.3), 0px 1px 3px 1px rgba(60, 64, 67, 0.15);\n",
              "      fill: #174EA6;\n",
              "    }\n",
              "\n",
              "    [theme=dark] .colab-df-convert {\n",
              "      background-color: #3B4455;\n",
              "      fill: #D2E3FC;\n",
              "    }\n",
              "\n",
              "    [theme=dark] .colab-df-convert:hover {\n",
              "      background-color: #434B5C;\n",
              "      box-shadow: 0px 1px 3px 1px rgba(0, 0, 0, 0.15);\n",
              "      filter: drop-shadow(0px 1px 2px rgba(0, 0, 0, 0.3));\n",
              "      fill: #FFFFFF;\n",
              "    }\n",
              "  </style>\n",
              "\n",
              "      <script>\n",
              "        const buttonEl =\n",
              "          document.querySelector('#df-4ea4a017-449b-471c-9688-1a0eb89f7c02 button.colab-df-convert');\n",
              "        buttonEl.style.display =\n",
              "          google.colab.kernel.accessAllowed ? 'block' : 'none';\n",
              "\n",
              "        async function convertToInteractive(key) {\n",
              "          const element = document.querySelector('#df-4ea4a017-449b-471c-9688-1a0eb89f7c02');\n",
              "          const dataTable =\n",
              "            await google.colab.kernel.invokeFunction('convertToInteractive',\n",
              "                                                     [key], {});\n",
              "          if (!dataTable) return;\n",
              "\n",
              "          const docLinkHtml = 'Like what you see? Visit the ' +\n",
              "            '<a target=\"_blank\" href=https://colab.research.google.com/notebooks/data_table.ipynb>data table notebook</a>'\n",
              "            + ' to learn more about interactive tables.';\n",
              "          element.innerHTML = '';\n",
              "          dataTable['output_type'] = 'display_data';\n",
              "          await google.colab.output.renderOutput(dataTable, element);\n",
              "          const docLink = document.createElement('div');\n",
              "          docLink.innerHTML = docLinkHtml;\n",
              "          element.appendChild(docLink);\n",
              "        }\n",
              "      </script>\n",
              "    </div>\n",
              "  </div>\n",
              "  "
            ]
          },
          "metadata": {},
          "execution_count": 31
        }
      ]
    },
    {
      "cell_type": "code",
      "source": [
        "#5\n",
        "import matplotlib.pyplot as plt\n",
        "df.hist()\n",
        "plt.ylabel('purple flowers')\n",
        "plt.xlabel('unit')\n",
        "plt.scatter( plant_no, 0, color='red')\n"
      ],
      "metadata": {
        "colab": {
          "base_uri": "https://localhost:8080/",
          "height": 312
        },
        "id": "C3A8iHCtN8gw",
        "outputId": "e5b67c7f-5157-4ed3-86c8-249de3d8f740"
      },
      "execution_count": 32,
      "outputs": [
        {
          "output_type": "execute_result",
          "data": {
            "text/plain": [
              "<matplotlib.collections.PathCollection at 0x7f8b8b6dcd30>"
            ]
          },
          "metadata": {},
          "execution_count": 32
        },
        {
          "output_type": "display_data",
          "data": {
            "text/plain": [
              "<Figure size 432x288 with 1 Axes>"
            ],
            "image/png": "[encoded data removed]"
          },
          "metadata": {
            "needs_background": "light"
          }
        }
      ]
    },
    {
      "cell_type": "code",
      "source": [
        "np.count_nonzero(df.iloc[:,0].values >= 730)/simulations\n"
      ],
      "metadata": {
        "colab": {
          "base_uri": "https://localhost:8080/"
        },
        "id": "-zdPwbCKWaFJ",
        "outputId": "bebb39bb-868d-4cd1-dbb0-cb2d45db56d4"
      },
      "execution_count": 33,
      "outputs": [
        {
          "output_type": "execute_result",
          "data": {
            "text/plain": [
              "0.00739476678043231"
            ]
          },
          "metadata": {},
          "execution_count": 33
        }
      ]
    },
    {
      "cell_type": "code",
      "source": [
        "if 0.005119453924914676 < alpha:\n",
        "  print(\"REJECT H0\")\n",
        "else:\n",
        "  print(\"CANNOT REJECT H0\")"
      ],
      "metadata": {
        "colab": {
          "base_uri": "https://localhost:8080/"
        },
        "id": "ztwd-upTWuOT",
        "outputId": "608c3255-1cdb-43d8-e7c8-a58a1049284c"
      },
      "execution_count": 34,
      "outputs": [
        {
          "output_type": "stream",
          "name": "stdout",
          "text": [
            "REJECT H0\n"
          ]
        }
      ]
    },
    {
      "cell_type": "markdown",
      "source": [
        "# PART B\n",
        "\n",
        "Carry out a hypothesis test for “mean” of a population. The population standard deviation is\n",
        "13.46, and the test is for a “mean” different from 60. Given: a sample size of 30, with “sample\n",
        "mean” 65.10. Consider alpha = 0.05. Demonstrate your solution using either the critical-value or\n",
        "p-value method."
      ],
      "metadata": {
        "id": "iVlBc3V6Ldv7"
      }
    },
    {
      "cell_type": "code",
      "source": [
        "\n",
        "\n",
        "sigma = 13.46\n",
        "mean = 60\n",
        "n = 30 \n",
        "xbar = 65.10\n",
        "alpha = 0.05\n",
        "\n",
        "\n",
        "# T TEST\n",
        "dof = n - 1\n",
        "t = ( xbar - mean ) / ( sigma / np.sqrt(n) )\n",
        "print(\"t =\",t)"
      ],
      "metadata": {
        "colab": {
          "base_uri": "https://localhost:8080/"
        },
        "id": "TfSdang2LhhO",
        "outputId": "ec409e1b-af8f-447b-83b4-57b78766e10f"
      },
      "execution_count": 35,
      "outputs": [
        {
          "output_type": "stream",
          "name": "stdout",
          "text": [
            "t = 2.075323211943792\n"
          ]
        }
      ]
    },
    {
      "cell_type": "code",
      "source": [
        "# USING CRITICAL VALUE\n",
        "if abs(t) < st.t.ppf(alpha / 2, dof):\n",
        "  print(\"REJECT H0\")\n",
        "else:\n",
        "  print(\"CANNOT REJECT H0\")"
      ],
      "metadata": {
        "colab": {
          "base_uri": "https://localhost:8080/"
        },
        "id": "5nfupGmUMhbO",
        "outputId": "cb345973-0e12-43e8-efac-307b31b86824"
      },
      "execution_count": 36,
      "outputs": [
        {
          "output_type": "stream",
          "name": "stdout",
          "text": [
            "CANNOT REJECT H0\n"
          ]
        }
      ]
    },
    {
      "cell_type": "code",
      "source": [
        "# USING P VALUE\n",
        "\n",
        "p_value = (1 - st.t.cdf(abs(t), dof))\n",
        "if p_value < alpha:\n",
        "  print(\"REJECT H0\")\n",
        "else:\n",
        "  print(\"CANNOT REJECT H0\")"
      ],
      "metadata": {
        "colab": {
          "base_uri": "https://localhost:8080/"
        },
        "id": "StNhCLS7MjNC",
        "outputId": "93e03946-bc05-4618-adfb-80a353580087"
      },
      "execution_count": 37,
      "outputs": [
        {
          "output_type": "stream",
          "name": "stdout",
          "text": [
            "REJECT H0\n"
          ]
        }
      ]
    }
  ]
}